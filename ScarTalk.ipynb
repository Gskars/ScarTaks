{
  "nbformat": 4,
  "nbformat_minor": 0,
  "metadata": {
    "colab": {
      "provenance": [],
      "authorship_tag": "ABX9TyOPTPV+VzdsUMWHEK+aOfgj",
      "include_colab_link": true
    },
    "kernelspec": {
      "name": "python3",
      "display_name": "Python 3"
    },
    "language_info": {
      "name": "python"
    }
  },
  "cells": [
    {
      "cell_type": "markdown",
      "metadata": {
        "id": "view-in-github",
        "colab_type": "text"
      },
      "source": [
        "<a href=\"https://colab.research.google.com/github/Gskars/ScarTaks/blob/main/ScarTalk.ipynb\" target=\"_parent\"><img src=\"https://colab.research.google.com/assets/colab-badge.svg\" alt=\"Open In Colab\"/></a>"
      ]
    },
    {
      "cell_type": "code",
      "execution_count": 11,
      "metadata": {
        "id": "VD2dD061_Y4E"
      },
      "outputs": [],
      "source": [
        "!pip install -q -U google-generativeai"
      ]
    },
    {
      "cell_type": "code",
      "source": [
        "import google.generativeai as genai\n",
        "from google.colab import userdata\n",
        "api_key= userdata.get(\"SECRET_KEY\")\n",
        "\n",
        "GOOGLE_API_KEY= \"YOUR_API_KEY_HERE\"\n",
        "genai.configure(api_key=api_key)"
      ],
      "metadata": {
        "id": "eBPeVrnIZl3T"
      },
      "execution_count": 12,
      "outputs": []
    },
    {
      "cell_type": "code",
      "source": [
        "for m in genai.list_models():\n",
        "  if 'generateContent' in m.supported_generation_methods:\n",
        "    print(m.name)"
      ],
      "metadata": {
        "colab": {
          "base_uri": "https://localhost:8080/",
          "height": 572
        },
        "id": "RqamHIl0Z2Ok",
        "outputId": "b584ab3e-c836-4819-df69-1922e1310422"
      },
      "execution_count": 13,
      "outputs": [
        {
          "output_type": "stream",
          "name": "stdout",
          "text": [
            "models/gemini-1.0-pro-latest\n",
            "models/gemini-1.0-pro\n",
            "models/gemini-pro\n",
            "models/gemini-1.0-pro-001\n",
            "models/gemini-1.0-pro-vision-latest\n",
            "models/gemini-pro-vision\n",
            "models/gemini-1.5-pro-latest\n",
            "models/gemini-1.5-pro-001\n",
            "models/gemini-1.5-pro-002\n",
            "models/gemini-1.5-pro\n",
            "models/gemini-1.5-flash-latest\n",
            "models/gemini-1.5-flash-001\n",
            "models/gemini-1.5-flash-001-tuning\n",
            "models/gemini-1.5-flash\n",
            "models/gemini-1.5-flash-002\n",
            "models/gemini-1.5-flash-8b\n",
            "models/gemini-1.5-flash-8b-001\n",
            "models/gemini-1.5-flash-8b-latest\n",
            "models/gemini-1.5-flash-8b-exp-0827\n",
            "models/gemini-1.5-flash-8b-exp-0924\n",
            "models/gemini-2.0-flash-exp\n",
            "models/gemini-2.0-flash\n",
            "models/gemini-2.0-flash-001\n",
            "models/gemini-2.0-flash-lite-preview\n",
            "models/gemini-2.0-flash-lite-preview-02-05\n",
            "models/gemini-2.0-pro-exp\n",
            "models/gemini-2.0-pro-exp-02-05\n",
            "models/gemini-exp-1206\n",
            "models/gemini-2.0-flash-thinking-exp-01-21\n",
            "models/gemini-2.0-flash-thinking-exp\n",
            "models/gemini-2.0-flash-thinking-exp-1219\n",
            "models/learnlm-1.5-pro-experimental\n"
          ]
        }
      ]
    },
    {
      "cell_type": "code",
      "source": [
        "generation_config = {\n",
        "    \"candidate_count\": 1,\n",
        "    \"temperature\": 0.5 ,\n",
        "}"
      ],
      "metadata": {
        "id": "dcIyKHCnZ99G"
      },
      "execution_count": 14,
      "outputs": []
    },
    {
      "cell_type": "code",
      "source": [
        "safety_settings = {\n",
        "    \"HARASSMENT\": \"BLOCK_NONE\",\n",
        "    \"HATE\": \"BLOCK_NONE\",\n",
        "    \"SEXUAL\": \"BLOCK_NONE\",\n",
        "    \"DANGEROUS\" : \"BLOCK_NONE\"\n",
        "}\n"
      ],
      "metadata": {
        "id": "u81AfZ7oaAUS"
      },
      "execution_count": 15,
      "outputs": []
    },
    {
      "cell_type": "code",
      "source": [
        "model = genai.GenerativeModel(model_name=\"gemini-1.0-pro\",\n",
        "                              generation_config=generation_config,\n",
        "                              safety_settings=safety_settings)\n"
      ],
      "metadata": {
        "id": "Trh8eyq-aDGg"
      },
      "execution_count": 16,
      "outputs": []
    },
    {
      "cell_type": "code",
      "source": [
        "chat = model.start_chat ( history = [])"
      ],
      "metadata": {
        "id": "1gn8exoOaFii"
      },
      "execution_count": 17,
      "outputs": []
    },
    {
      "cell_type": "code",
      "source": [],
      "metadata": {
        "id": "JvaA2Y1Q9OHZ"
      },
      "execution_count": null,
      "outputs": []
    },
    {
      "cell_type": "code",
      "source": [
        "def get_idioma():\n",
        "    idiomas = [\"Inglês\", \"Francês\", \"Alemão\", \"Russo\", \"Italiano\", \"Islandês\", \"Espanhol\", \"Mandarim\", \"Norueguês\", \"Japonês\"]\n",
        "\n",
        "    while True:\n",
        "        print(\"\\nEscolha o idioma que deseja estudar:\")\n",
        "        for i, idioma in enumerate(idiomas, 1):\n",
        "            print(f\"{i}. {idioma}\")\n",
        "\n",
        "        try:\n",
        "            escolha = int(input(\"\\nDigite o número do idioma desejado: \").strip())\n",
        "            if 1 <= escolha <= len(idiomas):\n",
        "                return idiomas[escolha - 1]\n",
        "            else:\n",
        "                print(\"\\nEscolha inválida! Por favor, escolha um número de 1 a 10.\")\n",
        "        except ValueError:\n",
        "            print(\"\\nEntrada inválida! Por favor, digite um número válido.\")\n",
        "\n",
        "def get_assunto():\n",
        "    return input(\"\\nQual assunto você quer aprender? \").strip()\n",
        "\n",
        "def gerar_prompt_exemplos(assunto, tipo, idioma):\n",
        "    if tipo == \"frases\":\n",
        "        prompt = f\"\"\"\n",
        "        Você é um professor de {idioma} especialista no assunto \"{assunto}\". Formate toda a resposta em MARKDOWN.\n",
        "        Siga estas regras rigorosamente:\n",
        "\n",
        "        **Estrutura da Resposta:**\n",
        "        1. Título nível 2: **Exemplos sobre \"{assunto}\"**\n",
        "        2. Primeiro parágrafo: explicação do significado ou contexto (1 linha)\n",
        "        3. Lista numerada de 10 itens com:\n",
        "           - Frase em {idioma} em *itálico*\n",
        "           - Tradução entre parênteses\n",
        "           - Exemplo:\n",
        "             *1. \"Look up the address.\" (Procure o endereço.)*\n",
        "\n",
        "        **Regras:**\n",
        "        - Use contextos variados: cotidiano, profissional, viagens\n",
        "        - Mantenha as traduções simples e literais\n",
        "        - Não use formatação extra além do especificado\n",
        "        \"\"\"\n",
        "        return prompt\n",
        "\n",
        "    elif tipo == \"dialogos\":\n",
        "        prompt = f\"\"\"\n",
        "        Você é um professor de {idioma} especialista no assunto \"{assunto}\". Formate toda a resposta em MARKDOWN.\n",
        "        Siga estas regras rigorosamente:\n",
        "\n",
        "        **Estrutura da Resposta:**\n",
        "        1. Título nível 2: **Diálogos sobre \"{assunto}\"**\n",
        "        2. Primeiro parágrafo: explicação breve do significado ou contexto\n",
        "        3. Para cada um dos 5 diálogos:\n",
        "           - Subtítulo: **Diálogo [Número] (Contexto)**\n",
        "           - Personagens fictícios (ex: Alice, Bob, Carol)\n",
        "           - 2-4 falas por diálogo\n",
        "           - Cada fala deve conter o assunto\n",
        "           - Tradução entre parênteses após cada fala\n",
        "\n",
        "        **Exemplo de Formato:**\n",
        "        * Alice: Can you look up the recipe? (Você pode procurar a receita?)\n",
        "        * Bob: I'll look it up online now. (Vou procurar online agora.)\n",
        "\n",
        "        **Contextos Sugeridos:**\n",
        "        - Cotidiano - Trabalho - Viagens - Educação - Tecnologia\n",
        "        \"\"\"\n",
        "        return prompt\n",
        "\n",
        "def gerar_frases_e_dialogos(opcao, idioma):\n",
        "    assunto = get_assunto()\n",
        "\n",
        "    print(\"\\nEscolha uma opção:\")\n",
        "    print(\"1. Gerar 10 frases com o assunto\")\n",
        "    print(\"2. Gerar 5 diálogos com o assunto\")\n",
        "\n",
        "    opcao = input(\"\\nDigite a opção desejada: \").strip()\n",
        "\n",
        "    if opcao == \"1\":\n",
        "        prompt = gerar_prompt_exemplos(assunto, \"frases\", idioma)\n",
        "        response = chat.send_message(prompt)  # Substituir pela sua API de IA\n",
        "        print(f\"\\n{response.text}\\n\")\n",
        "\n",
        "    elif opcao == \"2\":\n",
        "        prompt = gerar_prompt_exemplos(assunto, \"dialogos\", idioma)\n",
        "        response = chat.send_message(prompt)  # Substituir pela sua API de IA\n",
        "        print(f\"\\n{response.text}\\n\")\n",
        "\n",
        "# Função principal\n",
        "def main():\n",
        "    while True:\n",
        "        idioma = get_idioma()\n",
        "        print(f\"\\nVocê escolheu o idioma: {idioma}\")\n",
        "\n",
        "        # A lógica é a mesma para o Inglês e para outros idiomas\n",
        "        gerar_frases_e_dialogos(\"1\", idioma)  # Usando a opção 1 como exemplo para mostrar o fluxo\n",
        "\n",
        "        continuar = input(\"\\nDeseja escolher outro idioma? (s/n): \").strip().lower()\n",
        "        if continuar != 's':\n",
        "            print(\"\\nObrigado por usar o chatbot! Bons estudos!\")\n",
        "            break\n",
        "\n",
        "if __name__ == \"__main__\":\n",
        "    main()\n"
      ],
      "metadata": {
        "colab": {
          "base_uri": "https://localhost:8080/",
          "height": 922
        },
        "id": "-17H9PJ3aHfL",
        "outputId": "7acc7754-e82b-435b-9be8-7102d88cf43a"
      },
      "execution_count": 48,
      "outputs": [
        {
          "output_type": "stream",
          "name": "stdout",
          "text": [
            "\n",
            "Escolha o idioma que deseja estudar:\n",
            "1. Inglês\n",
            "2. Francês\n",
            "3. Alemão\n",
            "4. Russo\n",
            "5. Italiano\n",
            "6. Islandês\n",
            "7. Espanhol\n",
            "8. Mandarim\n",
            "9. Norueguês\n",
            "10. Japonês\n",
            "\n",
            "Digite o número do idioma desejado: 1\n",
            "\n",
            "Você escolheu o idioma: Inglês\n",
            "\n",
            "Qual assunto você quer aprender? Praia\n",
            "\n",
            "Escolha uma opção:\n",
            "1. Gerar 10 frases com o assunto\n",
            "2. Gerar 5 diálogos com o assunto\n",
            "\n",
            "Digite a opção desejada: 2\n",
            "\n",
            "## Diálogos sobre \"Praia\"\n",
            "\n",
            "**Diálogo 1 (Cotidiano)**\n",
            "* Alice: I'm going to the beach this weekend. (Vou à praia neste fim de semana.)\n",
            "* Bob: That sounds great! I love the beach. (Isso parece ótimo! Eu amo a praia.)\n",
            "\n",
            "**Diálogo 2 (Trabalho)**\n",
            "* Carol: I need a break from work. I'm going to the beach for a few days. (Preciso de uma pausa do trabalho. Vou à praia por alguns dias.)\n",
            "* Dave: That's a good idea. The beach is a great place to relax. (Essa é uma boa ideia. A praia é um ótimo lugar para relaxar.)\n",
            "\n",
            "**Diálogo 3 (Viagens)**\n",
            "* Emily: I'm on vacation in Hawaii. The beaches here are beautiful. (Estou de férias no Havaí. As praias aqui são lindas.)\n",
            "* Frank: I'm glad you're enjoying your trip. I've always wanted to go to Hawaii. (Fico feliz que você esteja gostando da sua viagem. Sempre quis ir ao Havaí.)\n",
            "\n",
            "**Diálogo 4 (Educação)**\n",
            "* George: I'm learning about marine biology in school. We're going to the beach next week to study the ecosystem. (Estou aprendendo sobre biologia marinha na escola. Vamos à praia na próxima semana para estudar o ecossistema.)\n",
            "* Helen: That sounds like a fun and educational trip. (Parece uma viagem divertida e educativa.)\n",
            "\n",
            "**Diálogo 5 (Tecnologia)**\n",
            "* Ian: I'm using a beach app to find the best beaches near me. (Estou usando um aplicativo de praia para encontrar as melhores praias perto de mim.)\n",
            "* Jane: That's a great idea. I'll download it too. (Essa é uma ótima ideia. Vou baixá-lo também.)\n",
            "\n",
            "\n",
            "Deseja escolher outro idioma? (s/n): n\n",
            "\n",
            "Obrigado por usar o chatbot! Bons estudos!\n"
          ]
        }
      ]
    }
  ]
}